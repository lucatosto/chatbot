{
 "cells": [
  {
   "cell_type": "code",
   "execution_count": 1,
   "metadata": {
    "collapsed": true
   },
   "outputs": [],
   "source": [
    "import os\n",
    "import ast\n",
    "import string\n",
    "from gensim.models import Word2Vec\n",
    "import re\n",
    "import gensim\n",
    "import numpy\n",
    "import torch\n",
    "\n",
    "class CornellData:\n",
    "    \n",
    "    def __init__(self):\n",
    "        dirName='data/'\n",
    "        self.lines = {}\n",
    "        self.conversations = []\n",
    "\n",
    "        MOVIE_LINES_FIELDS = [\"lineID\",\"characterID\",\"movieID\",\"character\",\"text\"]\n",
    "        MOVIE_CONVERSATIONS_FIELDS = [\"character1ID\",\"character2ID\",\"movieID\",\"utteranceIDs\"]\n",
    "\n",
    "        self.lines = self.loadLines(os.path.join(dirName, \"movie_lines.txt\"), MOVIE_LINES_FIELDS)\n",
    "        self.conversations = self.loadConversations(os.path.join(dirName, \"movie_conversations.txt\"), MOVIE_CONVERSATIONS_FIELDS)\n",
    "\n",
    "    def loadLines(self, fileName, fields):\n",
    "        lines = {}\n",
    "        with open(fileName, 'r', encoding='iso-8859-1') as f:  \n",
    "            for line in f:\n",
    "                values = line.split(\" +++$+++ \")\n",
    "                #values = line.split(\" \\n \")\n",
    "                values = [''.join(c for c in s if c not in string.punctuation) for s in values]\n",
    "                # Extract fields\n",
    "                lineObj = {}\n",
    "                for i, field in enumerate(fields):\n",
    "                    lineObj[field] = values[i]\n",
    "                lines[lineObj['lineID']] = lineObj['text'].strip('\\n')\n",
    "        #print('L180: ---->'+lines['L180'])\n",
    "        #print('L181: ---->'+lines['L181'])\n",
    "        #print('L182: ---->'+lines['L182'])\n",
    "        return lines\n",
    "     \n",
    "    def loadConversations(self, fileName, fields):\n",
    "        conversations = []\n",
    "        file=open('conversazioni.txt', 'w')\n",
    "        #model = gensim.models.KeyedVectors.load_word2vec_format('/Users/lucatosto/Desktop/Intelligenza_artificiale/GoogleNews-vectors-negative300.bin', binary=True)\n",
    "        \n",
    "        with open(fileName, 'r', encoding='iso-8859-1') as f:  \n",
    "            for line in f:\n",
    "                values = line.split(\" +++$+++ \")\n",
    "                '''startstring=\"-1-1-1-1\"\n",
    "                endstring=\"1111\"'''\n",
    "                # Extract fields\n",
    "                convObj = {}\n",
    "                for i, field in enumerate(fields):\n",
    "                    convObj['utteranceIDs'] = values[i]\n",
    "                lineIds = ast.literal_eval(convObj[\"utteranceIDs\"])\n",
    "                convObj[\"lines\"] = []\n",
    "                for lineId in lineIds:\n",
    "                    convObj[\"lines\"].append(self.lines[lineId]),\n",
    "                    '''convObj[\"lines\"].append(endstring),\n",
    "                    convObj[\"lines\"].append(startstring)'''\n",
    "                conversations.append(convObj)\n",
    "            lenght=5\n",
    "            conversations_list = [d.get('lines') for d in conversations]\n",
    "            print('conversation list')\n",
    "            #print(conversations_list[1])\n",
    "            co=[c for c in conversations_list if len(c) > lenght]\n",
    "            co4=co[:25]\n",
    "            print(co4)\n",
    "            #print('co1    ||||')\n",
    "            #print(co[1])\n",
    "            \n",
    "            \n",
    "            \n",
    "            co2 = [\n",
    "                word\n",
    "                    for sublist in co\n",
    "                    for sentence in sublist\n",
    "                    for word in sentence.split()\n",
    "            ]\n",
    "            \n",
    "            \n",
    "            #print('co2     ||||')\n",
    "            #print(co2[1])\n",
    "            \n",
    "            #parola = model[co2[1]]\n",
    "            \n",
    "            co3 = co2[:25]  #temporaneo, sarà poi co2 direttamente.\n",
    "            \n",
    "            #vectors = [model[w] for w in co3]\n",
    "            \n",
    "            \n",
    "            \n",
    "            #print(co3)\n",
    "            \n",
    "            #a = torch.from_numpy(parola)\n",
    "            #print(a)\n",
    "        return co4\n",
    "    \n",
    "    def getConversations(self, co4):\n",
    "        print(\"prova\")\n",
    "        return co4\n",
    "    def getBo(self, convObj):\n",
    "        print (\"---------->\",convObj)\n",
    "        return convObj"
   ]
  },
  {
   "cell_type": "code",
   "execution_count": 2,
   "metadata": {
    "scrolled": true
   },
   "outputs": [
    {
     "name": "stdout",
     "output_type": "stream",
     "text": [
      "conversation list\n",
      "[['Joey never told you we went out did he', 'What', 'In 9th  For a month', 'Why', 'He was like a total babe', 'But you hate Joey', 'Now I do  Back then was a different story', 'As in'], ['Thats not', 'Im not stupid enough to repeat your mistakes', 'I guess I thought I was protecting you', 'God youre just like him Just keep me locked away in the dark so I cant experience anything for myself', 'Not all experiences are good Bianca You cant always trust the people you want to', 'I guess Ill never know will I'], ['Daddy I want to discuss the prom with you Its tomorrow night ', 'The prom  Kat has a date', 'No but', 'Its that hot rod Joey right That  s who you want me to bend my rules for', 'Hes not a hot rod  Whatever that is', 'Youre not going unless your sister goes  End of story', 'Fine  I see that Im a prisoner in my own house  Im not a daughter Im a possession'], ['Always a pleasure Brucie', 'Didnt have you pegged for a Gigglepuss fan  Arent they a little too preteen bellybutton ring for you', 'Fan of a fan  You see a couple of minors come in', 'Never', 'Padua girls  One tall decent body The other one kinda short and undersexed', 'Just sent em through'], ['So  which Dakota you from', 'North actually  Howd you   ', 'I was kidding People actually live there', 'Yeah  A couple  Were outnumbered by the cows though', 'How many people were in your old school', 'Thirtytwo', 'Get out', 'How many people go here', 'Couple thousand Most of them evil'], ['That girl  I ', 'You burn you pine you perish', 'Who is she', 'Bianca Stratford  Sophomore Dont even think about it', 'Why not', 'I could start with your haircut but it doesnt matter  Shes not allowed to date until her older sister does  And thats an impossibility'], ['What makes you think hell do it', 'He seems like he thrives on danger', 'No kidding  Hes a criminal  I heard he lit a state trooper on fire  He just got out of Alcatraz', 'They always let felons sit in on Honors Biology', 'Im serious man hes whacked  He sold his own liver on the black market so he could buy new speakers', 'Forget his reputation  Do you think weve got a plan or not', 'Did she actually say shed go out with you', 'Thats what I just said'], ['Two legs nice rack', 'Yeah whatever  I want you to go out with her', 'Sure Sparky  Ill get right on it', 'You just said', 'You need money to take a girl out', 'But youd go out with her if you had the cake'], ['Hey', 'Are you lost', 'Nope  just came by to chat', 'We dont chat', 'Well actually I thought Id run an idea by you  You know just to see if youre interested', 'Were not'], ['Whos that', 'Patrick Verona   Random skid', 'Thats Pat Verona The one who was gone for a year I heard he was doing porn movies', 'Im sure hes completely incapable of doing anything that interesting', 'He always look so', 'Block E'], ['You went to the party  I thought we were officially opposed to suburban social activity', 'I didnt have a choice', 'You didnt have a choice  Wheres Kat and what have you done with her', 'I did Bianca a favor and it backfired', 'You didnt', 'I got drunk  I puked  I got rejected It was big fun'], ['Can you even imagine  Who the hell would go to this a bastion of commercial excess', 'Well I guess were not since we dont have dates ', 'Listen to you  You sound like Betty all pissed off because Archie is taking Veronica', 'Okay okay we wont go  Its not like I have a dress anyway', 'You  re looking at this from the wrong perspective  Were making a statement', 'Oh good  Something new and different for us'], ['You hate me dont you', 'I dont really think you warrant that strong an emotion', 'Then say youll spend Dollar Night at the track with me', 'And why would I do that', 'Come on  the ponies the flat beer you with money in your eyes me with my hand on your ass', 'You  covered in my vomit', 'Seventhirty'], ['This is so patronizing', 'Leave it to you to use big words when youre shitfaced', 'Why re you doing this', 'I told you', 'You dont care if I die', 'Sure I do', 'Why', 'Because then Id have to start taking out girls who like me', 'Like you could find one', 'See that  Who needs affection when Ive got blind hatred', 'Just let me sit down'], ['Whyd you let him get to you', 'Who', 'Dorsey', 'I hate him', 'I know  Itd have to be a pretty big deal to get you to mainline tequila You dont seem like the type', 'Hey man    You don  t think I can be cool  You dont think I can be laid back like everyone else', 'I thought you were above all that', 'You know what they say'], ['When you were gone last year  where were you', 'Busy', 'Were you in jail', 'Maybe', 'No you werent', 'Then whyd you ask', 'Whyd you lie'], ['Wholesome', 'Unwelcome', 'Unwelcome  I guess someone still has her panties in a twist', 'Dont for one minute think that you had any effect whatsoever on my panties', 'So what did I have an effect on ', 'Other than my upchuck reflex Nothing'], ['A soft side Who knew', 'Yeah well dont let it get out', 'So whats your excuse', 'Acting the way we do', 'Yes', 'I dont like to do what people expect Then they expect it all the time and they get disappointed when you change', 'So if you disappoint them from the start youre covered', 'Something like that', 'Then you screwed up', 'How', 'You never disappointed me'], ['Tell me something true', 'I hate peas', 'No  something real  Something no one else knows', 'Youre sweet  And sexy  And completely hot for me', 'What', 'No one else knows', 'Youre amazingly selfassured Has anyone ever told you that', 'Go to the prom with me'], ['Is that a request or a command', 'You know what I mean', 'No', 'No what', 'No I wont go with you', 'Why not', 'Because I dont want to Its a stupid tradition'], ['Create a little drama  Start a new rumor  What', 'So I have to have a motive to be with you', 'You tell me', 'You need therapy  Has anyone ever told you that', 'Answer the question Patrick', 'Nothing  Theres nothing in it for me Just the pleasure of your company'], ['My insurance does not cover PMS', 'Then tell them I had a seizure', 'Is this about Sarah Lawrence You punishing me', 'I thought you were punishing me', 'Why cant we agree on this', 'Because youre making decisions for me', 'As a parent thats my right', 'So what I want doesnt matter', 'Youre eighteen  You dont know what you want  You wont know until youre fortyfive and you dont have it', 'I want to go to an East Coast school I want you to trust me to make my own choices  I want '], ['I dont understand the allure of dehydrated food  Is this something I should be hip to', 'No Daddy', 'So tell me about this dance Was it fun', 'Parts of it', 'Which parts', 'The part where Bianca beat the hell out of some guy', 'Bianca did what', 'Whats the matter  Upset that I rubbed off on her', 'No  impressed'], ['I could be gone for years', 'I know', 'I havent given you much of a life', 'Well thats true  I have a child by a man who wont marry me  Whos always leaving', 'Are we going to argue', 'Id love to argue with you sometimes  But youre never here'], ['How can you be so certain  The Ocean is said to be infinite', 'Ignorance  I believe the Indies are no more than 750 leagues west of the Canary Islands', 'How can you be so certain', 'The calculations of Toscanelli Marin de Tyr Esdras', 'Esdras is a Jew', 'So was Christ']]\n"
     ]
    }
   ],
   "source": [
    "dirName='data/'\n",
    "conversazioni=[]\n",
    "conversazioni=CornellData()\n"
   ]
  },
  {
   "cell_type": "code",
   "execution_count": 3,
   "metadata": {},
   "outputs": [
    {
     "name": "stdout",
     "output_type": "stream",
     "text": [
      "conversation list\n",
      "[['Joey never told you we went out did he', 'What', 'In 9th  For a month', 'Why', 'He was like a total babe', 'But you hate Joey', 'Now I do  Back then was a different story', 'As in'], ['Thats not', 'Im not stupid enough to repeat your mistakes', 'I guess I thought I was protecting you', 'God youre just like him Just keep me locked away in the dark so I cant experience anything for myself', 'Not all experiences are good Bianca You cant always trust the people you want to', 'I guess Ill never know will I'], ['Daddy I want to discuss the prom with you Its tomorrow night ', 'The prom  Kat has a date', 'No but', 'Its that hot rod Joey right That  s who you want me to bend my rules for', 'Hes not a hot rod  Whatever that is', 'Youre not going unless your sister goes  End of story', 'Fine  I see that Im a prisoner in my own house  Im not a daughter Im a possession'], ['Always a pleasure Brucie', 'Didnt have you pegged for a Gigglepuss fan  Arent they a little too preteen bellybutton ring for you', 'Fan of a fan  You see a couple of minors come in', 'Never', 'Padua girls  One tall decent body The other one kinda short and undersexed', 'Just sent em through'], ['So  which Dakota you from', 'North actually  Howd you   ', 'I was kidding People actually live there', 'Yeah  A couple  Were outnumbered by the cows though', 'How many people were in your old school', 'Thirtytwo', 'Get out', 'How many people go here', 'Couple thousand Most of them evil'], ['That girl  I ', 'You burn you pine you perish', 'Who is she', 'Bianca Stratford  Sophomore Dont even think about it', 'Why not', 'I could start with your haircut but it doesnt matter  Shes not allowed to date until her older sister does  And thats an impossibility'], ['What makes you think hell do it', 'He seems like he thrives on danger', 'No kidding  Hes a criminal  I heard he lit a state trooper on fire  He just got out of Alcatraz', 'They always let felons sit in on Honors Biology', 'Im serious man hes whacked  He sold his own liver on the black market so he could buy new speakers', 'Forget his reputation  Do you think weve got a plan or not', 'Did she actually say shed go out with you', 'Thats what I just said'], ['Two legs nice rack', 'Yeah whatever  I want you to go out with her', 'Sure Sparky  Ill get right on it', 'You just said', 'You need money to take a girl out', 'But youd go out with her if you had the cake'], ['Hey', 'Are you lost', 'Nope  just came by to chat', 'We dont chat', 'Well actually I thought Id run an idea by you  You know just to see if youre interested', 'Were not'], ['Whos that', 'Patrick Verona   Random skid', 'Thats Pat Verona The one who was gone for a year I heard he was doing porn movies', 'Im sure hes completely incapable of doing anything that interesting', 'He always look so', 'Block E'], ['You went to the party  I thought we were officially opposed to suburban social activity', 'I didnt have a choice', 'You didnt have a choice  Wheres Kat and what have you done with her', 'I did Bianca a favor and it backfired', 'You didnt', 'I got drunk  I puked  I got rejected It was big fun'], ['Can you even imagine  Who the hell would go to this a bastion of commercial excess', 'Well I guess were not since we dont have dates ', 'Listen to you  You sound like Betty all pissed off because Archie is taking Veronica', 'Okay okay we wont go  Its not like I have a dress anyway', 'You  re looking at this from the wrong perspective  Were making a statement', 'Oh good  Something new and different for us'], ['You hate me dont you', 'I dont really think you warrant that strong an emotion', 'Then say youll spend Dollar Night at the track with me', 'And why would I do that', 'Come on  the ponies the flat beer you with money in your eyes me with my hand on your ass', 'You  covered in my vomit', 'Seventhirty'], ['This is so patronizing', 'Leave it to you to use big words when youre shitfaced', 'Why re you doing this', 'I told you', 'You dont care if I die', 'Sure I do', 'Why', 'Because then Id have to start taking out girls who like me', 'Like you could find one', 'See that  Who needs affection when Ive got blind hatred', 'Just let me sit down'], ['Whyd you let him get to you', 'Who', 'Dorsey', 'I hate him', 'I know  Itd have to be a pretty big deal to get you to mainline tequila You dont seem like the type', 'Hey man    You don  t think I can be cool  You dont think I can be laid back like everyone else', 'I thought you were above all that', 'You know what they say'], ['When you were gone last year  where were you', 'Busy', 'Were you in jail', 'Maybe', 'No you werent', 'Then whyd you ask', 'Whyd you lie'], ['Wholesome', 'Unwelcome', 'Unwelcome  I guess someone still has her panties in a twist', 'Dont for one minute think that you had any effect whatsoever on my panties', 'So what did I have an effect on ', 'Other than my upchuck reflex Nothing'], ['A soft side Who knew', 'Yeah well dont let it get out', 'So whats your excuse', 'Acting the way we do', 'Yes', 'I dont like to do what people expect Then they expect it all the time and they get disappointed when you change', 'So if you disappoint them from the start youre covered', 'Something like that', 'Then you screwed up', 'How', 'You never disappointed me'], ['Tell me something true', 'I hate peas', 'No  something real  Something no one else knows', 'Youre sweet  And sexy  And completely hot for me', 'What', 'No one else knows', 'Youre amazingly selfassured Has anyone ever told you that', 'Go to the prom with me'], ['Is that a request or a command', 'You know what I mean', 'No', 'No what', 'No I wont go with you', 'Why not', 'Because I dont want to Its a stupid tradition'], ['Create a little drama  Start a new rumor  What', 'So I have to have a motive to be with you', 'You tell me', 'You need therapy  Has anyone ever told you that', 'Answer the question Patrick', 'Nothing  Theres nothing in it for me Just the pleasure of your company'], ['My insurance does not cover PMS', 'Then tell them I had a seizure', 'Is this about Sarah Lawrence You punishing me', 'I thought you were punishing me', 'Why cant we agree on this', 'Because youre making decisions for me', 'As a parent thats my right', 'So what I want doesnt matter', 'Youre eighteen  You dont know what you want  You wont know until youre fortyfive and you dont have it', 'I want to go to an East Coast school I want you to trust me to make my own choices  I want '], ['I dont understand the allure of dehydrated food  Is this something I should be hip to', 'No Daddy', 'So tell me about this dance Was it fun', 'Parts of it', 'Which parts', 'The part where Bianca beat the hell out of some guy', 'Bianca did what', 'Whats the matter  Upset that I rubbed off on her', 'No  impressed'], ['I could be gone for years', 'I know', 'I havent given you much of a life', 'Well thats true  I have a child by a man who wont marry me  Whos always leaving', 'Are we going to argue', 'Id love to argue with you sometimes  But youre never here'], ['How can you be so certain  The Ocean is said to be infinite', 'Ignorance  I believe the Indies are no more than 750 leagues west of the Canary Islands', 'How can you be so certain', 'The calculations of Toscanelli Marin de Tyr Esdras', 'Esdras is a Jew', 'So was Christ']]\n"
     ]
    }
   ],
   "source": [
    "MOVIE_CONVERSATIONS_FIELDS = [\"character1ID\",\"character2ID\",\"movieID\",\"utteranceIDs\"]\n",
    "\n",
    "dirName='data/'\n",
    "#CO3\n",
    "a = conversazioni.loadConversations(os.path.join(dirName, \"movie_conversations.txt\"), MOVIE_CONVERSATIONS_FIELDS)"
   ]
  },
  {
   "cell_type": "code",
   "execution_count": 26,
   "metadata": {},
   "outputs": [
    {
     "name": "stdout",
     "output_type": "stream",
     "text": [
      "['How can you be so certain  The Ocean is said to be infinite', 'Ignorance  I believe the Indies are no more than 750 leagues west of the Canary Islands', 'How can you be so certain', 'The calculations of Toscanelli Marin de Tyr Esdras', 'Esdras is a Jew', 'So was Christ']\n"
     ]
    }
   ],
   "source": [
    "print (a[len(a)-1])\n"
   ]
  },
  {
   "cell_type": "code",
   "execution_count": 5,
   "metadata": {
    "collapsed": true
   },
   "outputs": [],
   "source": [
    "model = gensim.models.KeyedVectors.load_word2vec_format('/media/daniele/AF56-12AA/GoogleNews-vectors-negative300.bin', binary=True)"
   ]
  },
  {
   "cell_type": "code",
   "execution_count": 6,
   "metadata": {},
   "outputs": [
    {
     "name": "stdout",
     "output_type": "stream",
     "text": [
      "[array([ -3.63769531e-02,   4.15039062e-02,   1.57226562e-01,\n",
      "         1.53320312e-01,  -1.37695312e-01,  -1.14746094e-01,\n",
      "        -2.43164062e-01,  -4.27734375e-01,  -1.40625000e-01,\n",
      "        -2.08007812e-01,  -4.39453125e-02,   3.32031250e-02,\n",
      "         2.98828125e-01,   1.84570312e-01,  -5.27343750e-01,\n",
      "         1.83593750e-01,   2.09960938e-01,   1.38671875e-01,\n",
      "        -7.42187500e-02,  -3.85742188e-02,  -5.17578125e-02,\n",
      "         4.02832031e-02,   7.61718750e-02,   1.19628906e-01,\n",
      "        -1.25122070e-02,  -1.66015625e-01,  -2.03125000e-01,\n",
      "         2.74658203e-02,  -8.54492188e-02,   4.49218750e-02,\n",
      "        -2.27539062e-01,  -9.47265625e-02,  -2.81250000e-01,\n",
      "        -1.31835938e-01,   1.80664062e-02,   3.24707031e-02,\n",
      "         2.00195312e-01,   4.25781250e-01,  -1.24023438e-01,\n",
      "         1.26953125e-01,   2.12402344e-02,   2.87109375e-01,\n",
      "        -6.54296875e-02,  -2.79541016e-02,  -2.22656250e-01,\n",
      "         2.78320312e-02,  -4.58984375e-02,  -7.91015625e-02,\n",
      "         6.88476562e-02,  -1.25000000e-01,  -1.17187500e-01,\n",
      "         6.49414062e-02,   3.41796875e-01,  -7.86132812e-02,\n",
      "        -2.95410156e-02,   3.18359375e-01,   6.07910156e-02,\n",
      "        -1.77734375e-01,   2.38281250e-01,  -2.21679688e-01,\n",
      "        -8.15429688e-02,  -3.12500000e-01,  -5.39550781e-02,\n",
      "        -2.00195312e-01,   6.29882812e-02,   4.15039062e-03,\n",
      "        -8.39843750e-02,   2.35595703e-02,  -1.69921875e-01,\n",
      "        -1.51367188e-01,   1.65039062e-01,  -2.50000000e-01,\n",
      "         2.31933594e-02,  -9.03320312e-02,  -8.49609375e-02,\n",
      "         2.96630859e-02,  -1.38671875e-01,  -2.61718750e-01,\n",
      "         1.09863281e-01,  -1.80664062e-02,  -2.61718750e-01,\n",
      "        -9.17968750e-02,  -1.15722656e-01,  -7.37304688e-02,\n",
      "         1.02050781e-01,  -1.25000000e-01,  -2.40234375e-01,\n",
      "         4.82421875e-01,   1.61132812e-01,   8.48388672e-03,\n",
      "        -6.12792969e-02,  -8.54492188e-02,  -1.23046875e-01,\n",
      "        -2.91015625e-01,  -2.46582031e-02,   1.44531250e-01,\n",
      "        -3.18359375e-01,   1.43554688e-01,   2.67578125e-01,\n",
      "        -6.34765625e-02,  -1.59179688e-01,  -5.88378906e-02,\n",
      "        -1.84570312e-01,  -1.36718750e-01,   1.13281250e-01,\n",
      "        -3.49121094e-02,  -8.83789062e-02,   3.32031250e-02,\n",
      "        -2.48046875e-01,  -7.95898438e-02,   2.07031250e-01,\n",
      "         7.12890625e-02,  -2.08007812e-01,  -2.57812500e-01,\n",
      "        -1.36718750e-01,  -2.69531250e-01,   3.41796875e-02,\n",
      "        -1.26953125e-01,  -3.97949219e-02,   9.86328125e-02,\n",
      "        -7.76367188e-02,   3.51562500e-01,   5.22460938e-02,\n",
      "        -1.98242188e-01,   4.54101562e-02,  -3.67187500e-01,\n",
      "        -1.44653320e-02,   3.51562500e-01,  -1.12304688e-02,\n",
      "        -6.03027344e-02,   1.02050781e-01,   1.18164062e-01,\n",
      "        -9.52148438e-02,  -2.03125000e-01,  -7.42187500e-02,\n",
      "         4.78515625e-02,  -9.03320312e-02,   1.96289062e-01,\n",
      "        -6.10351562e-02,   2.71484375e-01,   1.10839844e-01,\n",
      "         7.87353516e-03,   1.09863281e-01,  -5.44433594e-02,\n",
      "        -2.17773438e-01,  -2.04101562e-01,   1.49414062e-01,\n",
      "         2.36328125e-01,  -4.12109375e-01,   1.59179688e-01,\n",
      "        -4.02832031e-02,  -3.22265625e-01,  -1.90429688e-01,\n",
      "        -2.08984375e-01,  -2.72216797e-02,   2.17773438e-01,\n",
      "        -3.83300781e-02,  -1.45874023e-02,   1.78710938e-01,\n",
      "         2.00195312e-01,   1.41601562e-01,  -6.49414062e-02,\n",
      "         1.65039062e-01,  -1.66015625e-01,  -4.49218750e-02,\n",
      "        -2.40234375e-01,   1.14257812e-01,  -2.12402344e-02,\n",
      "        -6.73828125e-02,  -1.64062500e-01,   7.03125000e-02,\n",
      "        -8.98437500e-02,  -3.73535156e-02,  -2.51953125e-01,\n",
      "         1.59179688e-01,   3.04687500e-01,   1.54296875e-01,\n",
      "         1.19140625e-01,  -1.34765625e-01,   2.30468750e-01,\n",
      "        -2.08740234e-02,  -7.86132812e-02,   1.33789062e-01,\n",
      "        -1.50146484e-02,  -9.91210938e-02,  -2.48718262e-03,\n",
      "         2.98828125e-01,  -1.66015625e-01,   6.93359375e-02,\n",
      "         1.81884766e-02,   2.05078125e-01,  -2.23632812e-01,\n",
      "        -1.80664062e-01,  -1.37695312e-01,   1.44531250e-01,\n",
      "         6.29882812e-02,   1.91406250e-01,   1.28906250e-01,\n",
      "         2.50000000e-01,  -1.20605469e-01,   7.47680664e-03,\n",
      "        -6.92749023e-03,  -1.79687500e-01,  -1.40625000e-01,\n",
      "        -6.12792969e-02,  -1.36718750e-01,  -1.56250000e-01,\n",
      "         5.88378906e-02,  -2.29492188e-02,   1.01074219e-01,\n",
      "        -8.00781250e-02,  -5.35156250e-01,   8.91113281e-03,\n",
      "         2.21679688e-01,  -4.46777344e-02,  -2.45117188e-01,\n",
      "        -3.97949219e-02,   1.96289062e-01,  -9.52148438e-02,\n",
      "        -9.13085938e-02,  -9.76562500e-02,   1.03515625e-01,\n",
      "        -7.08007812e-03,   2.59765625e-01,  -7.32421875e-02,\n",
      "         2.18750000e-01,  -1.89971924e-03,  -8.83789062e-02,\n",
      "         1.73828125e-01,   2.31933594e-02,   2.97851562e-02,\n",
      "         7.95898438e-02,  -1.73828125e-01,  -1.06445312e-01,\n",
      "         1.48437500e-01,  -7.32421875e-02,   9.17968750e-02,\n",
      "        -1.20239258e-02,  -1.35742188e-01,   1.29882812e-01,\n",
      "         1.45507812e-01,   4.80957031e-02,   6.31713867e-03,\n",
      "        -9.17968750e-02,   1.76757812e-01,   2.01171875e-01,\n",
      "        -1.95312500e-01,   2.09960938e-01,   2.16796875e-01,\n",
      "         5.85937500e-02,  -1.21093750e-01,   1.68945312e-01,\n",
      "         1.37695312e-01,   1.36718750e-01,   1.02050781e-01,\n",
      "         2.20703125e-01,   7.17773438e-02,   7.76367188e-02,\n",
      "         8.15429688e-02,  -3.10546875e-01,  -2.59765625e-01,\n",
      "         3.08227539e-03,   2.41699219e-02,  -1.16699219e-01,\n",
      "        -8.39843750e-02,   2.35595703e-02,  -3.41796875e-02,\n",
      "         4.90722656e-02,   1.78710938e-01,   2.95410156e-02,\n",
      "         2.63671875e-01,   5.95092773e-03,  -9.61914062e-02,\n",
      "         2.21252441e-03,  -1.31835938e-01,   2.06298828e-02,\n",
      "        -1.98242188e-01,  -1.05957031e-01,   5.43212891e-03,\n",
      "         6.34765625e-02,  -3.10546875e-01,   4.02450562e-04,\n",
      "        -2.61718750e-01,  -7.12890625e-02,   1.00585938e-01,\n",
      "         6.50024414e-03,   1.83593750e-01,   1.19140625e-01,\n",
      "         5.95092773e-03,  -1.64062500e-01,  -1.81884766e-02,\n",
      "        -1.18164062e-01,  -2.46093750e-01,   2.59765625e-01,\n",
      "        -2.02148438e-01,  -2.79296875e-01,  -2.40234375e-01,\n",
      "         7.47070312e-02,   1.27929688e-01,   1.02539062e-02], dtype=float32)]\n"
     ]
    }
   ],
   "source": [
    "def vettorizza():\n",
    "    inizio=[-1,-1,-1,-1]\n",
    "    fine = [1,1,1,1]\n",
    "    vectors=[]\n",
    "    #battute=[]\n",
    "    #c=[]\n",
    "    for c in a:#per ogni elemento della conversazione\n",
    "        for battute in c: #per battuta di elemento di conversazione\n",
    "            #c.append(inizio)\n",
    "            for parole in battute:#per ogni parola di battuta di elemento di conversazione\n",
    "                try:\n",
    "                    vectors.append(model[parole])\n",
    "                except:\n",
    "                    print(\"no in vocabolario\")\n",
    "                    pass\n",
    "                return vectors\n",
    "            #c.append(fine)\n",
    "        #bo_finale=battute[i]+ battute[i+1]\n",
    "        bo_finale=bo_finale.append(battute[i])\n",
    "        return bo_finale\n",
    "    #c_finale=c[i] + c[i+1]\n",
    "    c_finale=c_finale.append(c[i])\n",
    "    return c_finale\n",
    "    \n",
    "vettore=[]\n",
    "vettore=vettorizza()\n",
    "print(vettore)\n"
   ]
  },
  {
   "cell_type": "code",
   "execution_count": 31,
   "metadata": {
    "collapsed": true
   },
   "outputs": [],
   "source": [
    "def vettorizzazione():\n",
    "    iniziobattuta = torch.FloatTensor(1,300)\n",
    "    iniziobattuta.fill_(1)\n",
    "    finebattuta = torch.FloatTensor(1,300)\n",
    "    finebattuta.fill_(-1)\n",
    "    \n",
    "    #print(finebattuta)\n",
    "    vettorefinale=[]\n",
    "    for conversazione in a:\n",
    "        vettorebattute=[]\n",
    "        for battuta in conversazione:\n",
    "            vettoreparole=torch.FloatTensor()\n",
    "            #print(vettoreparole.size())\n",
    "            for parola in battuta:\n",
    "                p=[]\n",
    "                p = model[parola]\n",
    "                p = torch.from_numpy(p)\n",
    "                vettoreparole = vettoreparole.view(len(battuta),300)\n",
    "                vettoreparole = torch.cat([vettoreparole, p])\n",
    "            vettoreparole = torch.cat([iniziobattuta, vettoreparole])\n",
    "            vettoreparole = torch.cat([vettoreparole, finebattuta])\n",
    "            vettorebattute.append(vettoreparole)\n",
    "        vettorefinale.append(vettorebattute)\n",
    "    \n",
    "    return vettorefinale"
   ]
  },
  {
   "cell_type": "code",
   "execution_count": 32,
   "metadata": {},
   "outputs": [
    {
     "ename": "RuntimeError",
     "evalue": "size '[38 x 300]' is invalid for input of with 0 elements at /py/conda-bld/pytorch_1493674854206/work/torch/lib/TH/THStorage.c:59",
     "output_type": "error",
     "traceback": [
      "\u001b[0;31m---------------------------------------------------------------------------\u001b[0m",
      "\u001b[0;31mRuntimeError\u001b[0m                              Traceback (most recent call last)",
      "\u001b[0;32m<ipython-input-32-11969e1bfac0>\u001b[0m in \u001b[0;36m<module>\u001b[0;34m()\u001b[0m\n\u001b[0;32m----> 1\u001b[0;31m \u001b[0mvettore_f\u001b[0m\u001b[0;34m=\u001b[0m\u001b[0mvettorizzazione\u001b[0m\u001b[0;34m(\u001b[0m\u001b[0;34m)\u001b[0m\u001b[0;34m\u001b[0m\u001b[0m\n\u001b[0m\u001b[1;32m      2\u001b[0m \u001b[0mprint\u001b[0m\u001b[0;34m(\u001b[0m\u001b[0mvettore_f\u001b[0m\u001b[0;34m)\u001b[0m\u001b[0;34m\u001b[0m\u001b[0m\n",
      "\u001b[0;32m<ipython-input-31-bb1042ddff96>\u001b[0m in \u001b[0;36mvettorizzazione\u001b[0;34m()\u001b[0m\n\u001b[1;32m     16\u001b[0m                 \u001b[0mp\u001b[0m \u001b[0;34m=\u001b[0m \u001b[0mmodel\u001b[0m\u001b[0;34m[\u001b[0m\u001b[0mparola\u001b[0m\u001b[0;34m]\u001b[0m\u001b[0;34m\u001b[0m\u001b[0m\n\u001b[1;32m     17\u001b[0m                 \u001b[0mp\u001b[0m \u001b[0;34m=\u001b[0m \u001b[0mtorch\u001b[0m\u001b[0;34m.\u001b[0m\u001b[0mfrom_numpy\u001b[0m\u001b[0;34m(\u001b[0m\u001b[0mp\u001b[0m\u001b[0;34m)\u001b[0m\u001b[0;34m\u001b[0m\u001b[0m\n\u001b[0;32m---> 18\u001b[0;31m                 \u001b[0mvettoreparole\u001b[0m \u001b[0;34m=\u001b[0m \u001b[0mvettoreparole\u001b[0m\u001b[0;34m.\u001b[0m\u001b[0mview\u001b[0m\u001b[0;34m(\u001b[0m\u001b[0mlen\u001b[0m\u001b[0;34m(\u001b[0m\u001b[0mbattuta\u001b[0m\u001b[0;34m)\u001b[0m\u001b[0;34m,\u001b[0m\u001b[0;36m300\u001b[0m\u001b[0;34m)\u001b[0m\u001b[0;34m\u001b[0m\u001b[0m\n\u001b[0m\u001b[1;32m     19\u001b[0m                 \u001b[0mvettoreparole\u001b[0m \u001b[0;34m=\u001b[0m \u001b[0mtorch\u001b[0m\u001b[0;34m.\u001b[0m\u001b[0mcat\u001b[0m\u001b[0;34m(\u001b[0m\u001b[0;34m[\u001b[0m\u001b[0mvettoreparole\u001b[0m\u001b[0;34m,\u001b[0m \u001b[0mp\u001b[0m\u001b[0;34m]\u001b[0m\u001b[0;34m)\u001b[0m\u001b[0;34m\u001b[0m\u001b[0m\n\u001b[1;32m     20\u001b[0m             \u001b[0mvettoreparole\u001b[0m \u001b[0;34m=\u001b[0m \u001b[0mtorch\u001b[0m\u001b[0;34m.\u001b[0m\u001b[0mcat\u001b[0m\u001b[0;34m(\u001b[0m\u001b[0;34m[\u001b[0m\u001b[0miniziobattuta\u001b[0m\u001b[0;34m,\u001b[0m \u001b[0mvettoreparole\u001b[0m\u001b[0;34m]\u001b[0m\u001b[0;34m)\u001b[0m\u001b[0;34m\u001b[0m\u001b[0m\n",
      "\u001b[0;31mRuntimeError\u001b[0m: size '[38 x 300]' is invalid for input of with 0 elements at /py/conda-bld/pytorch_1493674854206/work/torch/lib/TH/THStorage.c:59"
     ]
    }
   ],
   "source": [
    "vettore_f=vettorizzazione()\n",
    "print(vettore_f)"
   ]
  },
  {
   "cell_type": "code",
   "execution_count": null,
   "metadata": {
    "collapsed": true
   },
   "outputs": [],
   "source": [
    "len(vettore)"
   ]
  },
  {
   "cell_type": "code",
   "execution_count": 21,
   "metadata": {},
   "outputs": [
    {
     "data": {
      "text/plain": [
       "\n",
       "\n",
       "Columns 0 to 12 \n",
       "   -1    -1    -1    -1    -1    -1    -1    -1    -1    -1    -1    -1    -1\n",
       "\n",
       "Columns 13 to 25 \n",
       "   -1    -1    -1    -1    -1    -1    -1    -1    -1    -1    -1    -1    -1\n",
       "\n",
       "Columns 26 to 38 \n",
       "   -1    -1    -1    -1    -1    -1    -1    -1    -1    -1    -1    -1    -1\n",
       "\n",
       "Columns 39 to 51 \n",
       "   -1    -1    -1    -1    -1    -1    -1    -1    -1    -1    -1    -1    -1\n",
       "\n",
       "Columns 52 to 64 \n",
       "   -1    -1    -1    -1    -1    -1    -1    -1    -1    -1    -1    -1    -1\n",
       "\n",
       "Columns 65 to 77 \n",
       "   -1    -1    -1    -1    -1    -1    -1    -1    -1    -1    -1    -1    -1\n",
       "\n",
       "Columns 78 to 90 \n",
       "   -1    -1    -1    -1    -1    -1    -1    -1    -1    -1    -1    -1    -1\n",
       "\n",
       "Columns 91 to 103 \n",
       "   -1    -1    -1    -1    -1    -1    -1    -1    -1    -1    -1    -1    -1\n",
       "\n",
       "Columns 104 to 116 \n",
       "   -1    -1    -1    -1    -1    -1    -1    -1    -1    -1    -1    -1    -1\n",
       "\n",
       "Columns 117 to 129 \n",
       "   -1    -1    -1    -1    -1    -1    -1    -1    -1    -1    -1    -1    -1\n",
       "\n",
       "Columns 130 to 142 \n",
       "   -1    -1    -1    -1    -1    -1    -1    -1    -1    -1    -1    -1    -1\n",
       "\n",
       "Columns 143 to 155 \n",
       "   -1    -1    -1    -1    -1    -1    -1    -1    -1    -1    -1    -1    -1\n",
       "\n",
       "Columns 156 to 168 \n",
       "   -1    -1    -1    -1    -1    -1    -1    -1    -1    -1    -1    -1    -1\n",
       "\n",
       "Columns 169 to 181 \n",
       "   -1    -1    -1    -1    -1    -1    -1    -1    -1    -1    -1    -1    -1\n",
       "\n",
       "Columns 182 to 194 \n",
       "   -1    -1    -1    -1    -1    -1    -1    -1    -1    -1    -1    -1    -1\n",
       "\n",
       "Columns 195 to 207 \n",
       "   -1    -1    -1    -1    -1    -1    -1    -1    -1    -1    -1    -1    -1\n",
       "\n",
       "Columns 208 to 220 \n",
       "   -1    -1    -1    -1    -1    -1    -1    -1    -1    -1    -1    -1    -1\n",
       "\n",
       "Columns 221 to 233 \n",
       "   -1    -1    -1    -1    -1    -1    -1    -1    -1    -1    -1    -1    -1\n",
       "\n",
       "Columns 234 to 246 \n",
       "   -1    -1    -1    -1    -1    -1    -1    -1    -1    -1    -1    -1    -1\n",
       "\n",
       "Columns 247 to 259 \n",
       "   -1    -1    -1    -1    -1    -1    -1    -1    -1    -1    -1    -1    -1\n",
       "\n",
       "Columns 260 to 272 \n",
       "   -1    -1    -1    -1    -1    -1    -1    -1    -1    -1    -1    -1    -1\n",
       "\n",
       "Columns 273 to 285 \n",
       "   -1    -1    -1    -1    -1    -1    -1    -1    -1    -1    -1    -1    -1\n",
       "\n",
       "Columns 286 to 298 \n",
       "   -1    -1    -1    -1    -1    -1    -1    -1    -1    -1    -1    -1    -1\n",
       "\n",
       "Columns 299 to 299 \n",
       "   -1\n",
       "[torch.FloatTensor of size 1x300]"
      ]
     },
     "execution_count": 21,
     "metadata": {},
     "output_type": "execute_result"
    }
   ],
   "source": [
    "iniziobattuta = torch.FloatTensor(1,300)\n",
    "iniziobattuta.fill_(1)\n",
    "finebattuta = torch.FloatTensor(1,300)\n",
    "finebattuta.fill_(-1)\n",
    "finebattuta"
   ]
  },
  {
   "cell_type": "code",
   "execution_count": null,
   "metadata": {
    "collapsed": true
   },
   "outputs": [],
   "source": [
    "import numpy\n",
    "import torch"
   ]
  },
  {
   "cell_type": "code",
   "execution_count": null,
   "metadata": {
    "collapsed": true
   },
   "outputs": [],
   "source": [
    "vectors_2=numpy.array(vectors)\n",
    "count=vectors_2.shape\n",
    "count"
   ]
  },
  {
   "cell_type": "code",
   "execution_count": null,
   "metadata": {
    "collapsed": true
   },
   "outputs": [],
   "source": [
    "vectors_3=torch.from_numpy(vectors_2)\n"
   ]
  },
  {
   "cell_type": "code",
   "execution_count": null,
   "metadata": {
    "collapsed": true
   },
   "outputs": [],
   "source": [
    "vectors_3.view(count)"
   ]
  },
  {
   "cell_type": "code",
   "execution_count": null,
   "metadata": {
    "collapsed": true
   },
   "outputs": [],
   "source": [
    "vector_4=torch.cat(vectors_3)"
   ]
  },
  {
   "cell_type": "code",
   "execution_count": null,
   "metadata": {
    "collapsed": true
   },
   "outputs": [],
   "source": [
    "print(vector_4)"
   ]
  },
  {
   "cell_type": "code",
   "execution_count": null,
   "metadata": {
    "collapsed": true
   },
   "outputs": [],
   "source": [
    "battute=[]\n",
    "word=[]\n",
    "\n",
    "for conversazione in conversazioni\n",
    "    for battute in conversazioni.battute\n",
    "        for word in conversazioni.battute.parole"
   ]
  }
 ],
 "metadata": {
  "kernelspec": {
   "display_name": "Python 3",
   "language": "python",
   "name": "python3"
  },
  "language_info": {
   "codemirror_mode": {
    "name": "ipython",
    "version": 3
   },
   "file_extension": ".py",
   "mimetype": "text/x-python",
   "name": "python",
   "nbconvert_exporter": "python",
   "pygments_lexer": "ipython3",
   "version": "3.6.1"
  }
 },
 "nbformat": 4,
 "nbformat_minor": 2
}
