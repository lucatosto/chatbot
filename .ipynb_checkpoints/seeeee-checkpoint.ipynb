{
 "cells": [
  {
   "cell_type": "code",
   "execution_count": 9,
   "metadata": {
    "collapsed": true
   },
   "outputs": [],
   "source": [
    "import os\n",
    "import ast\n",
    "import string\n",
    "\n",
    "\n",
    "class CornellData:\n",
    "\n",
    "    def __init__(self, dirName):\n",
    "        \"\"\"\n",
    "        Args:\n",
    "            dirName (string): directory where to load the corpus\n",
    "        \"\"\"\n",
    "        self.lines = {}\n",
    "        self.conversations = []\n",
    "\n",
    "        MOVIE_LINES_FIELDS = [\"lineID\",\"characterID\",\"movieID\",\"character\",\"text\"]\n",
    "        MOVIE_CONVERSATIONS_FIELDS = [\"character1ID\",\"character2ID\",\"movieID\",\"utteranceIDs\"]\n",
    "\n",
    "        self.lines = self.loadLines(os.path.join(dirName, \"movie_lines.txt\"), MOVIE_LINES_FIELDS)\n",
    "        self.conversations = self.loadConversations(os.path.join(dirName, \"movie_conversations.txt\"), MOVIE_CONVERSATIONS_FIELDS)\n",
    "        #print(self.lines)\n",
    "        # TODO: Cleaner program (merge copy-paste) !!\n",
    "\n",
    "    def loadLines(self, fileName, fields):\n",
    "        \"\"\"\n",
    "        Args:\n",
    "            fileName (str): file to load\n",
    "            field (set<str>): fields to extract\n",
    "        Return:\n",
    "            dict<dict<str>>: the extracted fields for each line\n",
    "        \"\"\"\n",
    "        lines = {}\n",
    "\n",
    "        with open(fileName, 'r', encoding='iso-8859-1') as f:  # TODO: Solve Iso encoding pb !\n",
    "            for line in f:\n",
    "                values = line.split(\" +++$+++ \")\n",
    "                values = [''.join(c for c in s if c not in string.punctuation) for s in values]\n",
    "                # Extract fields\n",
    "                lineObj = {}\n",
    "                for i, field in enumerate(fields):\n",
    "                    lineObj[field] = values[i]\n",
    "                lines[lineObj['lineID']] = lineObj['text']\n",
    "        print(lines['L180'])\n",
    "        print(lines['L181'])\n",
    "        print(lines['L182'])\n",
    "        return lines\n",
    "    \n",
    "\n",
    "    def loadConversations(self, fileName, fields):\n",
    "        \"\"\"\n",
    "        Args:\n",
    "            fileName (str): file to load\n",
    "            field (set<str>): fields to extract\n",
    "        Return:\n",
    "            dict<dict<str>>: the extracted fields for each line\n",
    "        \"\"\"\n",
    "        conversations = []\n",
    "\n",
    "        with open(fileName, 'r', encoding='iso-8859-1') as f:  # TODO: Solve Iso encoding pb !\n",
    "            for line in f:\n",
    "                values = line.split(\" +++$+++ \")\n",
    "                # Extract fields\n",
    "                convObj = {}\n",
    "                for i, field in enumerate(fields):\n",
    "                    convObj['utteranceIDs'] = values[i] # => convObj[field] = values[i] \n",
    "\n",
    "                # Convert string to list (convObj[\"utteranceIDs\"] == \"['L598485', 'L598486', ...]\")\n",
    "                lineIds = ast.literal_eval(convObj[\"utteranceIDs\"])\n",
    "                # Reassemble lines\n",
    "                convObj[\"lines\"] = []\n",
    "                for lineId in lineIds:\n",
    "                    convObj[\"lines\"].append(self.lines[lineId])\n",
    "                conversations.append(convObj)\n",
    "       \n",
    "            conversations_list = [d.get('lines') for d in conversations]\n",
    "            #print(conversations_list[1])\n",
    "            \n",
    "            a = ' [00000] '.join(conversations_list[1])\n",
    "            \n",
    "            print(a)\n",
    "        return conversations_list\n",
    "    def getConversations(self):\n",
    "        return self.conversations"
   ]
  },
  {
   "cell_type": "code",
   "execution_count": 10,
   "metadata": {
    "collapsed": false
   },
   "outputs": [
    {
     "name": "stdout",
     "output_type": "stream",
     "text": [
      "No Youre not dating until your sister starts dating  End of discussion\n",
      "\n",
      "What if she never starts dating\n",
      "\n",
      "Then neither will you  And Ill get to sleep at night\n",
      "\n",
      "Youre asking me out  Thats so cute Whats your name again\n",
      " [00000] Forget it\n",
      "\n"
     ]
    },
    {
     "data": {
      "text/plain": [
       "<__main__.CornellData at 0x110df8be0>"
      ]
     },
     "execution_count": 10,
     "metadata": {},
     "output_type": "execute_result"
    }
   ],
   "source": [
    "dirName='data/'\n",
    "CornellData(dirName)"
   ]
  },
  {
   "cell_type": "code",
   "execution_count": null,
   "metadata": {
    "collapsed": true
   },
   "outputs": [],
   "source": []
  }
 ],
 "metadata": {
  "kernelspec": {
   "display_name": "Python 3",
   "language": "python",
   "name": "python3"
  },
  "language_info": {
   "codemirror_mode": {
    "name": "ipython",
    "version": 3
   },
   "file_extension": ".py",
   "mimetype": "text/x-python",
   "name": "python",
   "nbconvert_exporter": "python",
   "pygments_lexer": "ipython3",
   "version": "3.6.0"
  }
 },
 "nbformat": 4,
 "nbformat_minor": 2
}
