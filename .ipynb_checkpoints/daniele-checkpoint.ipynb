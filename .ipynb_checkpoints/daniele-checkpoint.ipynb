{
 "cells": [
  {
   "cell_type": "code",
   "execution_count": 5,
   "metadata": {
    "collapsed": true
   },
   "outputs": [],
   "source": [
    "import os\n",
    "import ast\n",
    "import string\n",
    "\n",
    "\n",
    "class CornellData:\n",
    "\n",
    "    def _init_(self, dirName):\n",
    "        \"\"\"\n",
    "        Args:\n",
    "            dirName (string): directory where to load the corpus\n",
    "        \"\"\"\n",
    "        self.lines = {}\n",
    "        self.conversations = []\n",
    "\n",
    "        MOVIE_LINES_FIELDS = [\"lineID\",\"characterID\",\"movieID\",\"character\",\"text\"]\n",
    "        MOVIE_CONVERSATIONS_FIELDS = [\"character1ID\",\"character2ID\",\"movieID\",\"utteranceIDs\"]\n",
    "\n",
    "        self.lines = self.loadLines(os.path.join(dirName, \"movie_lines.txt\"), MOVIE_LINES_FIELDS)\n",
    "        self.conversations = self.loadConversations(os.path.join(dirName, \"movie_conversations.txt\"), MOVIE_CONVERSATIONS_FIELDS)\n",
    "        #print(self.lines)\n",
    "        # TODO: Cleaner program (merge copy-paste) !!\n",
    "\n",
    "    def loadLines(self, fileName, fields):\n",
    "        \"\"\"\n",
    "        Args:\n",
    "            fileName (str): file to load\n",
    "            field (set<str>): fields to extract\n",
    "        Return:\n",
    "            dict<dict<str>>: the extracted fields for each line\n",
    "        \"\"\"\n",
    "        lines = {}\n",
    "\n",
    "        with open(fileName, 'r', encoding='iso-8859-1') as f:  # TODO: Solve Iso encoding pb !\n",
    "            for line in f:\n",
    "                values = line.split(\" +++$+++ \")\n",
    "                values = [''.join(c for c in s if c not in string.punctuation) for s in values]\n",
    "                # Extract fields\n",
    "                lineObj = {}\n",
    "                for i, field in enumerate(fields):\n",
    "                    lineObj[field] = values[i]\n",
    "                lines[lineObj['lineID']] = lineObj['text']\n",
    "        print(lines['L180'])\n",
    "        print(lines['L181'])\n",
    "        print(lines['L182'])\n",
    "        return lines\n",
    "    \n",
    "\n",
    "    def loadConversations(self, fileName, fields):\n",
    "        \"\"\"\n",
    "        Args:\n",
    "            fileName (str): file to load\n",
    "            field (set<str>): fields to extract\n",
    "        Return:\n",
    "            dict<dict<str>>: the extracted fields for each line\n",
    "        \"\"\"\n",
    "        conversations = []\n",
    "\n",
    "        with open(fileName, 'r', encoding='iso-8859-1') as f:  # TODO: Solve Iso encoding pb !\n",
    "            for line in f:\n",
    "                values = line.split(\" +++$+++ \")\n",
    "                # Extract fields\n",
    "                convObj = {}\n",
    "                for i, field in enumerate(fields):\n",
    "                    convObj[field] = values[i]\n",
    "\n",
    "                # Convert string to list (convObj[\"utteranceIDs\"] == \"['L598485', 'L598486', ...]\")\n",
    "                lineIds = ast.literal_eval(convObj[\"utteranceIDs\"])\n",
    "                # Reassemble lines\n",
    "                convObj[\"lines\"] = []\n",
    "                for lineId in lineIds:\n",
    "                    convObj[\"lines\"].append(self.lines[lineId])\n",
    "\n",
    "                conversations.append(convObj)\n",
    "        #conversations_more_5= (c for c in conversations if lenght>5)\n",
    "        #print(conversations[0])\n",
    "        #print(conversations_more_5)\n",
    "            print(conversations[1])\n",
    "        return conversations\n",
    "\n",
    "    def getConversations(self):\n",
    "        return self.conversations"
   ]
  },
  {
   "cell_type": "code",
   "execution_count": 6,
   "metadata": {
    "collapsed": false
   },
   "outputs": [
    {
     "ename": "TypeError",
     "evalue": "object() takes no parameters",
     "output_type": "error",
     "traceback": [
      "\u001b[0;31m---------------------------------------------------------------------------\u001b[0m",
      "\u001b[0;31mTypeError\u001b[0m                                 Traceback (most recent call last)",
      "\u001b[0;32m<ipython-input-6-26590d1ac4da>\u001b[0m in \u001b[0;36m<module>\u001b[0;34m()\u001b[0m\n\u001b[1;32m      1\u001b[0m \u001b[0mdirName\u001b[0m\u001b[0;34m=\u001b[0m\u001b[0;34m'data/'\u001b[0m\u001b[0;34m\u001b[0m\u001b[0m\n\u001b[0;32m----> 2\u001b[0;31m \u001b[0mCornellData\u001b[0m\u001b[0;34m(\u001b[0m\u001b[0mdirName\u001b[0m\u001b[0;34m)\u001b[0m\u001b[0;34m\u001b[0m\u001b[0m\n\u001b[0m",
      "\u001b[0;31mTypeError\u001b[0m: object() takes no parameters"
     ]
    }
   ],
   "source": [
    "dirName='data/'\n",
    "CornellData(dirName)"
   ]
  },
  {
   "cell_type": "code",
   "execution_count": null,
   "metadata": {
    "collapsed": true
   },
   "outputs": [],
   "source": []
  }
 ],
 "metadata": {
  "kernelspec": {
   "display_name": "Python 3",
   "language": "python",
   "name": "python3"
  },
  "language_info": {
   "codemirror_mode": {
    "name": "ipython",
    "version": 3
   },
   "file_extension": ".py",
   "mimetype": "text/x-python",
   "name": "python",
   "nbconvert_exporter": "python",
   "pygments_lexer": "ipython3",
   "version": "3.6.0"
  }
 },
 "nbformat": 4,
 "nbformat_minor": 2
}
