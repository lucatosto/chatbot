{
 "cells": [
  {
   "cell_type": "code",
   "execution_count": 1,
   "metadata": {
    "collapsed": true
   },
   "outputs": [],
   "source": [
    "import os\n",
    "import ast\n",
    "import string\n",
    "from gensim.models import Word2Vec\n",
    "import re\n",
    "import gensim\n",
    "import numpy\n",
    "import torch"
   ]
  },
  {
   "cell_type": "code",
   "execution_count": 2,
   "metadata": {
    "collapsed": false
   },
   "outputs": [],
   "source": [
    "class CornellData:\n",
    "    def __init__(self):\n",
    "        dirName='data/'\n",
    "        self.lines = {}\n",
    "        self.conversations = []\n",
    "\n",
    "        MOVIE_LINES_FIELDS = [\"lineID\",\"characterID\",\"movieID\",\"character\",\"text\"]\n",
    "        MOVIE_CONVERSATIONS_FIELDS = [\"character1ID\",\"character2ID\",\"movieID\",\"utteranceIDs\"]\n",
    "\n",
    "        self.lines = self.loadLines(os.path.join(dirName, \"movie_lines.txt\"), MOVIE_LINES_FIELDS)\n",
    "        self.conversations = self.loadConversations(os.path.join(dirName, \"movie_conversations.txt\"), MOVIE_CONVERSATIONS_FIELDS)\n",
    "\n",
    "    def loadLines(self, fileName, fields):\n",
    "        lines = {}\n",
    "        with open(fileName, 'r', encoding='iso-8859-1') as f:\n",
    "            for line in f:\n",
    "                values = line.split(\" +++$+++ \")\n",
    "                values = [''.join(c for c in s if c not in string.punctuation) for s in values]\n",
    "                # Extract fields\n",
    "                lineObj = {}\n",
    "                for i, field in enumerate(fields):\n",
    "                    lineObj[field] = values[i]\n",
    "                lines[lineObj['lineID']] = lineObj['text'].strip('\\n')\n",
    "        return lines\n",
    "     \n",
    "    def loadConversations(self, fileName, fields):\n",
    "        conversations = []\n",
    "        with open(fileName, 'r', encoding='iso-8859-1') as f:  \n",
    "            for line in f:\n",
    "                values = line.split(\" +++$+++ \")\n",
    "                # Extract fields\n",
    "                convObj = {}\n",
    "                for i, field in enumerate(fields):\n",
    "                    convObj['utteranceIDs'] = values[i]\n",
    "                lineIds = ast.literal_eval(convObj[\"utteranceIDs\"])\n",
    "                convObj[\"lines\"] = []\n",
    "                for lineId in lineIds:\n",
    "                    convObj[\"lines\"].append(self.lines[lineId]),\n",
    "                conversations.append(convObj)\n",
    "            conversations_list = [d.get('lines') for d in conversations]\n",
    "            \n",
    "            lenght=5\n",
    "            co=[c for c in conversations_list if len(c) > lenght]\n",
    "            co2 = co[:7]  #temporaneo, sarà poi co direttamente.\n",
    "            \n",
    "        return co2\n",
    "    \n",
    "    def getConversations(self):\n",
    "        return self.conversations"
   ]
  },
  {
   "cell_type": "code",
   "execution_count": 3,
   "metadata": {
    "collapsed": false
   },
   "outputs": [],
   "source": [
    "dirName='data/'\n",
    "conversazioni=[]\n",
    "conversazioni=CornellData()"
   ]
  },
  {
   "cell_type": "code",
   "execution_count": 4,
   "metadata": {
    "collapsed": false
   },
   "outputs": [],
   "source": [
    "MOVIE_CONVERSATIONS_FIELDS = [\"character1ID\",\"character2ID\",\"movieID\",\"utteranceIDs\"]\n",
    "\n",
    "listaconversazioni = conversazioni.loadConversations(os.path.join(dirName, \"movie_conversations.txt\"), MOVIE_CONVERSATIONS_FIELDS)"
   ]
  },
  {
   "cell_type": "code",
   "execution_count": 5,
   "metadata": {
    "collapsed": true
   },
   "outputs": [],
   "source": [
    "#model = gensim.models.KeyedVectors.load_word2vec_format('/media/daniele/AF56-12AA/GoogleNews-vectors-negative300.bin', binary=True)\n",
    "model = gensim.models.KeyedVectors.load_word2vec_format('/Users/lucatosto/Desktop/Intelligenza_artificiale/GoogleNews-vectors-negative300.bin', binary=True)"
   ]
  },
  {
   "cell_type": "code",
   "execution_count": 50,
   "metadata": {
    "collapsed": true
   },
   "outputs": [],
   "source": [
    "def vettorizzazione():\n",
    "    token = torch.FloatTensor(1,300)\n",
    "    token.fill_(0)\n",
    "    \n",
    "    uno = torch.FloatTensor(1,1)\n",
    "    uno.fill_(1)\n",
    "\n",
    "    zero = torch.FloatTensor(1,1)\n",
    "    zero.fill_(0)\n",
    "\n",
    "    inizio = torch.cat([uno, zero], 1)\n",
    "    fine = torch.cat([zero, uno], 1)\n",
    "\n",
    "    fineparola = torch.cat([zero, zero], 1)\n",
    "\n",
    "    iniziobattuta = torch.cat([token, inizio], 1)\n",
    "\n",
    "    finebattuta = torch.cat([token, fine], 1)\n",
    "    \n",
    "    vettorefinale=[]\n",
    "    for conversazione in listaconversazioni:\n",
    "        vettorebattute=[]\n",
    "        for battuta in conversazione:\n",
    "            vettoreparole=torch.FloatTensor()\n",
    "            vettoreparole = torch.cat([iniziobattuta, vettoreparole])\n",
    "            for parola in battuta:\n",
    "                try:\n",
    "                    p = model[parola]\n",
    "                    p = torch.from_numpy(p)\n",
    "                    p = p.view(1, 300)\n",
    "                except:\n",
    "                    pass\n",
    "                parolatokenizzata = torch.cat([p, fineparola], 1)\n",
    "                vettoreparole = torch.cat([vettoreparole, parolatokenizzata])\n",
    "                #vettoreparole = vettoreparole.view(len(battuta),302)\n",
    "            vettoreparole = torch.cat([vettoreparole, finebattuta])\n",
    "            vettorebattute.append(vettoreparole)\n",
    "        vettorefinale.append(vettorebattute)\n",
    "    \n",
    "    return vettorefinale       "
   ]
  },
  {
   "cell_type": "code",
   "execution_count": 51,
   "metadata": {
    "collapsed": false
   },
   "outputs": [
    {
     "name": "stdout",
     "output_type": "stream",
     "text": [
      "7\n"
     ]
    }
   ],
   "source": [
    "vett = vettorizzazione()\n",
    "print(len(vett))"
   ]
  },
  {
   "cell_type": "code",
   "execution_count": null,
   "metadata": {
    "collapsed": true
   },
   "outputs": [],
   "source": []
  }
 ],
 "metadata": {
  "kernelspec": {
   "display_name": "Python 3",
   "language": "python",
   "name": "python3"
  },
  "language_info": {
   "codemirror_mode": {
    "name": "ipython",
    "version": 3
   },
   "file_extension": ".py",
   "mimetype": "text/x-python",
   "name": "python",
   "nbconvert_exporter": "python",
   "pygments_lexer": "ipython3",
   "version": "3.6.0"
  }
 },
 "nbformat": 4,
 "nbformat_minor": 2
}
